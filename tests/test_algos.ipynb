{
 "cells": [
  {
   "cell_type": "code",
   "execution_count": 85,
   "metadata": {},
   "outputs": [
    {
     "name": "stdout",
     "output_type": "stream",
     "text": [
      "The autoreload extension is already loaded. To reload it, use:\n",
      "  %reload_ext autoreload\n"
     ]
    },
    {
     "name": "stderr",
     "output_type": "stream",
     "text": [
      "[autoreload of rws.RWS failed: Traceback (most recent call last):\n",
      "  File \"/Users/salem/anaconda3/envs/.deep/lib/python3.6/site-packages/IPython/extensions/autoreload.py\", line 246, in check\n",
      "    superreload(m, reload, self.old_objects)\n",
      "  File \"/Users/salem/anaconda3/envs/.deep/lib/python3.6/site-packages/IPython/extensions/autoreload.py\", line 369, in superreload\n",
      "    module = reload(module)\n",
      "  File \"/Users/salem/anaconda3/envs/.deep/lib/python3.6/imp.py\", line 315, in reload\n",
      "    return importlib.reload(module)\n",
      "  File \"/Users/salem/anaconda3/envs/.deep/lib/python3.6/importlib/__init__.py\", line 166, in reload\n",
      "    _bootstrap._exec(spec, module)\n",
      "  File \"<frozen importlib._bootstrap>\", line 600, in _exec\n",
      "AttributeError: 'NoneType' object has no attribute 'name'\n",
      "]\n"
     ]
    }
   ],
   "source": [
    "%load_ext autoreload\n",
    "%autoreload 2"
   ]
  },
  {
   "cell_type": "code",
   "execution_count": 87,
   "metadata": {},
   "outputs": [],
   "source": [
    "import sys\n",
    "sys.path.append(\"..\")\n",
    "from data.gmm_gen import GMMDataGen\n",
    "from rws.model import BasicModel\n",
    "from rws import RWS, Vae, IWAE\n",
    "import matplotlib.pyplot as plt\n",
    "%matplotlib inline\n",
    "import numpy as np\n",
    "from torchvision import datasets, transforms\n",
    "import torch\n",
    "from functools import partial"
   ]
  },
  {
   "cell_type": "code",
   "execution_count": 88,
   "metadata": {},
   "outputs": [],
   "source": [
    "transform = transforms.Compose((\n",
    "    transforms.ToTensor(),\n",
    "    partial(torch.flatten, start_dim=1),\n",
    "    partial(torch.gt, other=0.5),\n",
    "    partial(lambda x: x.float()))\n",
    ")\n",
    "dataset = datasets.MNIST('../data', train=True, download=True,\n",
    "                         transform=transform)"
   ]
  },
  {
   "cell_type": "code",
   "execution_count": 105,
   "metadata": {},
   "outputs": [],
   "source": [
    "input_dim = dataset[0][0].shape[1]\n",
    "train_loader = torch.utils.data.DataLoader(dataset, batch_size=16, shuffle=True)\n",
    "\n",
    "model = BasicModel(input_dim, hidden_dim=400, hidden_layers=1, encoding_dim=20, mode='MNIST')\n",
    "optimizer = torch.optim.Adam(model.parameters(), lr=1e-3)\n",
    "\n",
    "vae = Vae(model, optimizer, mode='MNIST')\n",
    "\n",
    "model2 = BasicModel(input_dim, 200, 2, 50)\n",
    "optimizer2 = torch.optim.Adam(model.parameters(), lr=1e-3)\n",
    "\n",
    "iwae = IWAE(model2, optimizer2, K=5, RP=True)"
   ]
  },
  {
   "cell_type": "code",
   "execution_count": 106,
   "metadata": {},
   "outputs": [
    {
     "name": "stdout",
     "output_type": "stream",
     "text": [
      "Epoch 0\n",
      "epoch 0, batch 0, loss 8828.5927734375\n",
      "epoch 0, batch 1000, loss 1888.5216064453125\n",
      "epoch 0, batch 2000, loss 1700.099853515625\n",
      "epoch 0, batch 3000, loss 1447.4071044921875\n",
      "Epoch 1\n",
      "epoch 1, batch 0, loss 1707.974609375\n",
      "epoch 1, batch 1000, loss 1611.927734375\n",
      "epoch 1, batch 2000, loss 1833.9698486328125\n",
      "epoch 1, batch 3000, loss 1562.8955078125\n"
     ]
    }
   ],
   "source": [
    "for epoch in range(2):\n",
    "    print('Epoch %s' % epoch)\n",
    "    for (i, batch) in enumerate(train_loader):\n",
    "        data = batch[0]\n",
    "        loss = vae.train_step(data)\n",
    "        if i % 1000 == 0:\n",
    "            print(\"epoch {}, batch {}, loss {}\".format(epoch, i, loss.item()))\n"
   ]
  },
  {
   "cell_type": "code",
   "execution_count": 104,
   "metadata": {},
   "outputs": [
    {
     "name": "stdout",
     "output_type": "stream",
     "text": [
      "Epoch 0\n",
      "epoch 0, batch 0, loss 543.5508422851562\n",
      "epoch 0, batch 1000, loss 543.5103149414062\n",
      "epoch 0, batch 2000, loss 543.5983276367188\n",
      "epoch 0, batch 3000, loss 544.0640869140625\n",
      "Epoch 1\n",
      "epoch 1, batch 0, loss 543.2626342773438\n",
      "epoch 1, batch 1000, loss 543.9031982421875\n",
      "epoch 1, batch 2000, loss 543.36181640625\n",
      "epoch 1, batch 3000, loss 544.0555419921875\n"
     ]
    }
   ],
   "source": [
    "for epoch in range(2):\n",
    "    print('Epoch %s' % epoch)\n",
    "    for (i, batch) in enumerate(train_loader):\n",
    "        data = batch[0]\n",
    "        _, _, loss = iwae.train_step(data)\n",
    "        if i % 1000 == 0:\n",
    "            print(\"epoch {}, batch {}, loss {}\".format(epoch, i, loss.item()))\n"
   ]
  },
  {
   "cell_type": "code",
   "execution_count": 108,
   "metadata": {},
   "outputs": [
    {
     "data": {
      "text/plain": [
       "<matplotlib.image.AxesImage at 0x11317e5c0>"
      ]
     },
     "execution_count": 108,
     "metadata": {},
     "output_type": "execute_result"
    },
    {
     "data": {
      "image/png": "[encoded data removed]",
      "text/plain": [
       "<matplotlib.figure.Figure at 0x113422da0>"
      ]
     },
     "metadata": {},
     "output_type": "display_data"
    }
   ],
   "source": [
    "plt.imshow(model.sample(1).reshape(28, 28).detach().numpy())"
   ]
  }
 ],
 "metadata": {
  "kernelspec": {
   "display_name": "Python 3",
   "language": "python",
   "name": "python3"
  },
  "language_info": {
   "codemirror_mode": {
    "name": "ipython",
    "version": 3
   },
   "file_extension": ".py",
   "mimetype": "text/x-python",
   "name": "python",
   "nbconvert_exporter": "python",
   "pygments_lexer": "ipython3",
   "version": "3.6.4"
  }
 },
 "nbformat": 4,
 "nbformat_minor": 2
}
